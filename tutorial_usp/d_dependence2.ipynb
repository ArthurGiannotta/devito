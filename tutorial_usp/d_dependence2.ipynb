{
 "cells": [
  {
   "cell_type": "markdown",
   "metadata": {},
   "source": [
    "# Example 1"
   ]
  },
  {
   "cell_type": "code",
   "execution_count": 58,
   "metadata": {},
   "outputs": [
    {
     "data": {
      "text/plain": [
       "[Eq(a[x], b[x] + c[x]), Eq(d[x], a[x])]"
      ]
     },
     "execution_count": 58,
     "metadata": {},
     "output_type": "execute_result"
    }
   ],
   "source": [
    "from devito import Grid, Eq\n",
    "from devito.types import Array\n",
    "from devito.ir.equations import LoweredEq\n",
    "\n",
    "grid = Grid((10,))\n",
    "x, = grid.dimensions\n",
    "\n",
    "a = Array(name='a', shape=grid.shape, dimensions=grid.dimensions, scope='heap')\n",
    "b = Array(name='b', shape=grid.shape, dimensions=grid.dimensions, scope='heap')\n",
    "c = Array(name='c', shape=grid.shape, dimensions=grid.dimensions, scope='heap')\n",
    "d = Array(name='d', shape=grid.shape, dimensions=grid.dimensions, scope='heap')\n",
    "\n",
    "exprs1 = [LoweredEq(Eq(a[x], b[x] + c[x])),\n",
    "         LoweredEq(Eq(d[x], a[x]))]\n",
    "exprs1"
   ]
  },
  {
   "cell_type": "code",
   "execution_count": 59,
   "metadata": {},
   "outputs": [
    {
     "data": {
      "text/plain": [
       "a =>  W : \u001b[1;37;31m(x,)\u001b[0m\n",
       "      R : (x,)\n",
       "b =>  W : \n",
       "      R : (x,)\n",
       "c =>  W : \n",
       "      R : (x,)\n",
       "d =>  W : \u001b[1;37;31m(x,)\u001b[0m\n",
       "      R : "
      ]
     },
     "execution_count": 59,
     "metadata": {},
     "output_type": "execute_result"
    }
   ],
   "source": [
    "from devito.ir.support.basic import Scope\n",
    "scope1 = Scope(exprs1)\n",
    "scope1"
   ]
  },
  {
   "cell_type": "code",
   "execution_count": 60,
   "metadata": {},
   "outputs": [
    {
     "data": {
      "text/plain": [
       "[\u001b[1;37;31mW\u001b[0m<a,[x]> -> \u001b[1;37;32mR\u001b[0m<a,[x]>]"
      ]
     },
     "execution_count": 60,
     "metadata": {},
     "output_type": "execute_result"
    }
   ],
   "source": [
    "scope1.d_all"
   ]
  },
  {
   "cell_type": "code",
   "execution_count": 61,
   "metadata": {},
   "outputs": [
    {
     "data": {
      "text/plain": [
       "\u001b[1;37;31mW\u001b[0m<a,[x]>"
      ]
     },
     "execution_count": 61,
     "metadata": {},
     "output_type": "execute_result"
    }
   ],
   "source": [
    "scope1.d_all[0].source"
   ]
  },
  {
   "cell_type": "code",
   "execution_count": 62,
   "metadata": {},
   "outputs": [
    {
     "data": {
      "text/plain": [
       "\u001b[1;37;32mR\u001b[0m<a,[x]>"
      ]
     },
     "execution_count": 62,
     "metadata": {},
     "output_type": "execute_result"
    }
   ],
   "source": [
    "scope1.d_all[0].sink"
   ]
  },
  {
   "cell_type": "code",
   "execution_count": 63,
   "metadata": {},
   "outputs": [
    {
     "data": {
      "text/plain": [
       "True"
      ]
     },
     "execution_count": 63,
     "metadata": {},
     "output_type": "execute_result"
    }
   ],
   "source": [
    "scope1.d_all[0].is_indep()"
   ]
  },
  {
   "cell_type": "markdown",
   "metadata": {},
   "source": [
    "# Example 2"
   ]
  },
  {
   "cell_type": "code",
   "execution_count": 64,
   "metadata": {},
   "outputs": [
    {
     "data": {
      "text/plain": [
       "a =>  W : \u001b[1;37;31m(x,)\u001b[0m\n",
       "      R : (x - 1,)\n",
       "b =>  W : \n",
       "      R : (x,)\n",
       "c =>  W : \n",
       "      R : (x,)\n",
       "d =>  W : \u001b[1;37;31m(x,)\u001b[0m\n",
       "      R : "
      ]
     },
     "execution_count": 64,
     "metadata": {},
     "output_type": "execute_result"
    }
   ],
   "source": [
    "exprs2 = [LoweredEq(Eq(a[x], b[x] + c[x])),\n",
    "          LoweredEq(Eq(d[x], a[x-1]))]\n",
    "\n",
    "scope2 = Scope(exprs2)\n",
    "scope2"
   ]
  },
  {
   "cell_type": "code",
   "execution_count": 65,
   "metadata": {},
   "outputs": [
    {
     "data": {
      "text/plain": [
       "[\u001b[1;37;31mW\u001b[0m<a,[x]> -> \u001b[1;37;32mR\u001b[0m<a,[x - 1]>]"
      ]
     },
     "execution_count": 65,
     "metadata": {},
     "output_type": "execute_result"
    }
   ],
   "source": [
    "scope2.d_all"
   ]
  },
  {
   "cell_type": "code",
   "execution_count": 66,
   "metadata": {},
   "outputs": [
    {
     "data": {
      "text/plain": [
       "\u001b[1;37;31mW\u001b[0m<a,[x]>"
      ]
     },
     "execution_count": 66,
     "metadata": {},
     "output_type": "execute_result"
    }
   ],
   "source": [
    "scope2.d_all[0].source"
   ]
  },
  {
   "cell_type": "code",
   "execution_count": 67,
   "metadata": {},
   "outputs": [
    {
     "data": {
      "text/plain": [
       "\u001b[1;37;32mR\u001b[0m<a,[x - 1]>"
      ]
     },
     "execution_count": 67,
     "metadata": {},
     "output_type": "execute_result"
    }
   ],
   "source": [
    "scope2.d_all[0].sink"
   ]
  },
  {
   "cell_type": "code",
   "execution_count": 68,
   "metadata": {},
   "outputs": [
    {
     "data": {
      "text/plain": [
       "False"
      ]
     },
     "execution_count": 68,
     "metadata": {},
     "output_type": "execute_result"
    }
   ],
   "source": [
    "scope2.d_all[0].is_indep()"
   ]
  },
  {
   "cell_type": "code",
   "execution_count": 69,
   "metadata": {},
   "outputs": [
    {
     "data": {
      "text/plain": [
       "True"
      ]
     },
     "execution_count": 69,
     "metadata": {},
     "output_type": "execute_result"
    }
   ],
   "source": [
    "scope2.d_all[0].is_carried()"
   ]
  },
  {
   "cell_type": "code",
   "execution_count": 70,
   "metadata": {},
   "outputs": [
    {
     "data": {
      "text/plain": [
       "frozenset({x})"
      ]
     },
     "execution_count": 70,
     "metadata": {},
     "output_type": "execute_result"
    }
   ],
   "source": [
    "scope2.d_all[0].cause"
   ]
  },
  {
   "cell_type": "markdown",
   "metadata": {},
   "source": [
    "# Example 3"
   ]
  },
  {
   "cell_type": "code",
   "execution_count": 71,
   "metadata": {},
   "outputs": [
    {
     "data": {
      "text/plain": [
       "a =>  W : \u001b[1;37;31m(x,)\u001b[0m\n",
       "      R : (x + 1,)\n",
       "b =>  W : \n",
       "      R : (x,)\n",
       "c =>  W : \n",
       "      R : (x,)\n",
       "d =>  W : \u001b[1;37;31m(x,)\u001b[0m\n",
       "      R : "
      ]
     },
     "execution_count": 71,
     "metadata": {},
     "output_type": "execute_result"
    }
   ],
   "source": [
    "exprs3 = [LoweredEq(Eq(a[x], b[x] + c[x])),\n",
    "          LoweredEq(Eq(d[x], a[x+1]))]\n",
    "\n",
    "scope3 = Scope(exprs3)\n",
    "scope3"
   ]
  },
  {
   "cell_type": "code",
   "execution_count": 72,
   "metadata": {},
   "outputs": [
    {
     "data": {
      "text/plain": [
       "[\u001b[1;37;32mR\u001b[0m<a,[x + 1]> -> \u001b[1;37;31mW\u001b[0m<a,[x]>]"
      ]
     },
     "execution_count": 72,
     "metadata": {},
     "output_type": "execute_result"
    }
   ],
   "source": [
    "scope3.d_all"
   ]
  },
  {
   "cell_type": "code",
   "execution_count": 73,
   "metadata": {},
   "outputs": [
    {
     "data": {
      "text/plain": [
       "\u001b[1;37;32mR\u001b[0m<a,[x + 1]>"
      ]
     },
     "execution_count": 73,
     "metadata": {},
     "output_type": "execute_result"
    }
   ],
   "source": [
    "scope3.d_all[0].source"
   ]
  },
  {
   "cell_type": "code",
   "execution_count": 74,
   "metadata": {},
   "outputs": [
    {
     "data": {
      "text/plain": [
       "\u001b[1;37;31mW\u001b[0m<a,[x]>"
      ]
     },
     "execution_count": 74,
     "metadata": {},
     "output_type": "execute_result"
    }
   ],
   "source": [
    "scope3.d_all[0].sink"
   ]
  },
  {
   "cell_type": "code",
   "execution_count": 75,
   "metadata": {},
   "outputs": [
    {
     "data": {
      "text/plain": [
       "False"
      ]
     },
     "execution_count": 75,
     "metadata": {},
     "output_type": "execute_result"
    }
   ],
   "source": [
    "scope2.d_all[0].is_indep()"
   ]
  },
  {
   "cell_type": "code",
   "execution_count": 76,
   "metadata": {},
   "outputs": [
    {
     "data": {
      "text/plain": [
       "True"
      ]
     },
     "execution_count": 76,
     "metadata": {},
     "output_type": "execute_result"
    }
   ],
   "source": [
    "scope2.d_all[0].is_carried()"
   ]
  },
  {
   "cell_type": "code",
   "execution_count": 77,
   "metadata": {},
   "outputs": [
    {
     "data": {
      "text/plain": [
       "frozenset({x})"
      ]
     },
     "execution_count": 77,
     "metadata": {},
     "output_type": "execute_result"
    }
   ],
   "source": [
    "scope3.d_all[0].cause"
   ]
  },
  {
   "cell_type": "code",
   "execution_count": null,
   "metadata": {},
   "outputs": [],
   "source": []
  }
 ],
 "metadata": {
  "kernelspec": {
   "display_name": "Python 3",
   "language": "python",
   "name": "python3"
  },
  "language_info": {
   "codemirror_mode": {
    "name": "ipython",
    "version": 3
   },
   "file_extension": ".py",
   "mimetype": "text/x-python",
   "name": "python",
   "nbconvert_exporter": "python",
   "pygments_lexer": "ipython3",
   "version": "3.6.8"
  }
 },
 "nbformat": 4,
 "nbformat_minor": 2
}
