{
 "cells": [
  {
   "cell_type": "code",
   "execution_count": 6,
   "metadata": {},
   "outputs": [
    {
     "data": {
      "text/plain": [
       "a =>  W : \u001b[1;37;31m(x,)\u001b[0m\n",
       "      R : (x,)\n",
       "b =>  W : \n",
       "      R : (x,)\n",
       "c =>  W : \n",
       "      R : (x,)\n",
       "d =>  W : \u001b[1;37;31m(x,)\u001b[0m\n",
       "      R : "
      ]
     },
     "execution_count": 6,
     "metadata": {},
     "output_type": "execute_result"
    }
   ],
   "source": [
    "from devito import Grid\n",
    "grid = Grid((10))\n",
    "x = grid.dimensions\n",
    "\n",
    "from devito.types import Array\n",
    "a = Array(name='a', shape=(10), dimensions=(x), scope='heap')\n",
    "b = Array(name='b', shape=(10), dimensions=(x), scope='heap')\n",
    "c = Array(name='c', shape=(10), dimensions=(x), scope='heap')\n",
    "d = Array(name='d', shape=(10), dimensions=(x), scope='heap')\n",
    "\n",
    "\n",
    "from devito import Eq\n",
    "eqs1 = [Eq(a[x], b[x] + c[x]),\n",
    "       Eq(d[x], a[x])]\n",
    "\n",
    "from devito.ir.equations import LoweredEq\n",
    "exprs1 = [LoweredEq(i) for i in eqs1]\n",
    "\n",
    "from devito.ir.support.basic import Scope\n",
    "scope1 = Scope(exprs1)\n",
    "scope1"
   ]
  },
  {
   "cell_type": "code",
   "execution_count": 5,
   "metadata": {},
   "outputs": [
    {
     "data": {
      "text/plain": [
       "[\u001b[1;37;31mW\u001b[0m<a,[x]> -> \u001b[1;37;32mR\u001b[0m<a,[x]>]"
      ]
     },
     "execution_count": 5,
     "metadata": {},
     "output_type": "execute_result"
    }
   ],
   "source": [
    "scope.d_all"
   ]
  },
  {
   "cell_type": "code",
   "execution_count": 8,
   "metadata": {},
   "outputs": [
    {
     "data": {
      "text/plain": [
       "False"
      ]
     },
     "execution_count": 8,
     "metadata": {},
     "output_type": "execute_result"
    }
   ],
   "source": [
    "exprs2 = [LoweredEq(Eq(a[x], b[x] + c[x])),\n",
    "          LoweredEq(Eq(d[x], a[x]))]\n",
    "\n",
    "scope2 = Scope(exprs2)\n",
    "scope1 == scope2 # expected to be True"
   ]
  },
  {
   "cell_type": "code",
   "execution_count": 10,
   "metadata": {},
   "outputs": [
    {
     "ename": "TypeError",
     "evalue": "unsupported operand type(s) for -: 'tuple' and 'int'",
     "output_type": "error",
     "traceback": [
      "\u001b[0;31m---------------------------------------------------------------------------\u001b[0m",
      "\u001b[0;31mTypeError\u001b[0m                                 Traceback (most recent call last)",
      "\u001b[0;32m<ipython-input-10-7bc56ecb4155>\u001b[0m in \u001b[0;36m<module>\u001b[0;34m()\u001b[0m\n\u001b[1;32m      1\u001b[0m exprs3 = [LoweredEq(Eq(a[x], b[x] + c[x])),\n\u001b[0;32m----> 2\u001b[0;31m           LoweredEq(Eq(d[x], a[x-1]))]\n\u001b[0m",
      "\u001b[0;31mTypeError\u001b[0m: unsupported operand type(s) for -: 'tuple' and 'int'"
     ]
    }
   ],
   "source": [
    "exprs3 = [LoweredEq(Eq(a[x], b[x] + c[x])),\n",
    "          LoweredEq(Eq(d[x], a[x-1]))]"
   ]
  },
  {
   "cell_type": "code",
   "execution_count": null,
   "metadata": {},
   "outputs": [],
   "source": []
  }
 ],
 "metadata": {
  "kernelspec": {
   "display_name": "Python 3",
   "language": "python",
   "name": "python3"
  },
  "language_info": {
   "codemirror_mode": {
    "name": "ipython",
    "version": 3
   },
   "file_extension": ".py",
   "mimetype": "text/x-python",
   "name": "python",
   "nbconvert_exporter": "python",
   "pygments_lexer": "ipython3",
   "version": "3.6.8"
  }
 },
 "nbformat": 4,
 "nbformat_minor": 2
}
