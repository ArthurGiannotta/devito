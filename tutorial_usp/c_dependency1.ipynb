{
 "cells": [
  {
   "cell_type": "code",
   "execution_count": 17,
   "metadata": {},
   "outputs": [],
   "source": [
    "from devito.types import Scalar, Constant\n",
    "\n",
    "A = Scalar(name='A')\n",
    "B = Scalar(name='B')\n",
    "C = Scalar(name='C')\n",
    "D = Scalar(name='D')\n",
    "\n",
    "from devito import Eq\n",
    "\n",
    "eqs = [Eq(A,1),\n",
    "       Eq(B,A+2),\n",
    "       Eq(A,C-D),\n",
    "       Eq(A,B/C)]\n",
    "\n",
    "from devito.ir.equations import LoweredEq\n",
    "exprs = [LoweredEq(i) for i in eqs]\n",
    "\n",
    "from devito.ir.support.basic import Scope\n",
    "scope = Scope(exprs)"
   ]
  },
  {
   "cell_type": "code",
   "execution_count": 18,
   "metadata": {},
   "outputs": [
    {
     "data": {
      "text/plain": [
       "A =>  W : \u001b[1;37;31m()\n",
       "          ()\n",
       "          ()\u001b[0m\n",
       "      R : ()\n",
       "B =>  W : \u001b[1;37;31m()\u001b[0m\n",
       "      R : ()\n",
       "C =>  W : \n",
       "      R : ()\n",
       "          ()\n",
       "D =>  W : \n",
       "      R : ()"
      ]
     },
     "execution_count": 18,
     "metadata": {},
     "output_type": "execute_result"
    }
   ],
   "source": [
    "scope"
   ]
  },
  {
   "cell_type": "code",
   "execution_count": 22,
   "metadata": {},
   "outputs": [
    {
     "data": {
      "text/plain": [
       "[\u001b[1;37;31mW\u001b[0m<A,[]> -> \u001b[1;37;32mR\u001b[0m<A,[]>,\n",
       " \u001b[1;37;31mW\u001b[0m<B,[]> -> \u001b[1;37;32mR\u001b[0m<B,[]>,\n",
       " \u001b[1;37;32mR\u001b[0m<A,[]> -> \u001b[1;37;31mW\u001b[0m<A,[]>,\n",
       " \u001b[1;37;32mR\u001b[0m<A,[]> -> \u001b[1;37;31mW\u001b[0m<A,[]>,\n",
       " \u001b[1;37;31mW\u001b[0m<A,[]> -> \u001b[1;37;31mW\u001b[0m<A,[]>,\n",
       " \u001b[1;37;31mW\u001b[0m<A,[]> -> \u001b[1;37;31mW\u001b[0m<A,[]>,\n",
       " \u001b[1;37;31mW\u001b[0m<A,[]> -> \u001b[1;37;31mW\u001b[0m<A,[]>]"
      ]
     },
     "execution_count": 22,
     "metadata": {},
     "output_type": "execute_result"
    }
   ],
   "source": [
    "scope.d_all"
   ]
  },
  {
   "cell_type": "code",
   "execution_count": 23,
   "metadata": {},
   "outputs": [
    {
     "data": {
      "text/plain": [
       "[\u001b[1;37;31mW\u001b[0m<A,[]> -> \u001b[1;37;32mR\u001b[0m<A,[]>,\n",
       " \u001b[1;37;31mW\u001b[0m<B,[]> -> \u001b[1;37;32mR\u001b[0m<B,[]>]"
      ]
     },
     "execution_count": 23,
     "metadata": {},
     "output_type": "execute_result"
    }
   ],
   "source": [
    "scope.d_flow"
   ]
  },
  {
   "cell_type": "code",
   "execution_count": 25,
   "metadata": {},
   "outputs": [
    {
     "data": {
      "text/plain": [
       "[\u001b[1;37;32mR\u001b[0m<A,[]> -> \u001b[1;37;31mW\u001b[0m<A,[]>,\n",
       " \u001b[1;37;32mR\u001b[0m<A,[]> -> \u001b[1;37;31mW\u001b[0m<A,[]>]"
      ]
     },
     "execution_count": 25,
     "metadata": {},
     "output_type": "execute_result"
    }
   ],
   "source": [
    "scope.d_anti"
   ]
  },
  {
   "cell_type": "code",
   "execution_count": 28,
   "metadata": {},
   "outputs": [
    {
     "data": {
      "text/plain": [
       "[\u001b[1;37;31mW\u001b[0m<A,[]> -> \u001b[1;37;31mW\u001b[0m<A,[]>,\n",
       " \u001b[1;37;31mW\u001b[0m<A,[]> -> \u001b[1;37;31mW\u001b[0m<A,[]>,\n",
       " \u001b[1;37;31mW\u001b[0m<A,[]> -> \u001b[1;37;31mW\u001b[0m<A,[]>]"
      ]
     },
     "execution_count": 28,
     "metadata": {},
     "output_type": "execute_result"
    }
   ],
   "source": [
    "scope.d_output"
   ]
  },
  {
   "cell_type": "code",
   "execution_count": null,
   "metadata": {},
   "outputs": [],
   "source": []
  },
  {
   "cell_type": "code",
   "execution_count": null,
   "metadata": {},
   "outputs": [],
   "source": []
  },
  {
   "cell_type": "code",
   "execution_count": 26,
   "metadata": {},
   "outputs": [
    {
     "name": "stdout",
     "output_type": "stream",
     "text": [
      "<frozendict {}>\n",
      "<frozendict {}>\n",
      "<frozendict {}>\n",
      "<frozendict {}>\n"
     ]
    }
   ],
   "source": [
    "\n",
    "for i in exprs:\n",
    "    print(i.ispace._directions)"
   ]
  },
  {
   "cell_type": "code",
   "execution_count": null,
   "metadata": {},
   "outputs": [],
   "source": []
  }
 ],
 "metadata": {
  "kernelspec": {
   "display_name": "Python 3",
   "language": "python",
   "name": "python3"
  },
  "language_info": {
   "codemirror_mode": {
    "name": "ipython",
    "version": 3
   },
   "file_extension": ".py",
   "mimetype": "text/x-python",
   "name": "python",
   "nbconvert_exporter": "python",
   "pygments_lexer": "ipython3",
   "version": "3.6.8"
  }
 },
 "nbformat": 4,
 "nbformat_minor": 2
}
